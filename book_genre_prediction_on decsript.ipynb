{
 "cells": [
  {
   "cell_type": "markdown",
   "id": "b5383f2a-2a52-4400-826a-3df826c003a7",
   "metadata": {},
   "source": [
    "## import the libraries"
   ]
  },
  {
   "cell_type": "code",
   "execution_count": 1,
   "id": "e10ca95f-fa50-43ef-a0e1-567f60363ae1",
   "metadata": {},
   "outputs": [],
   "source": [
    "import pandas as pd\n",
    "from sklearn.model_selection import train_test_split\n",
    "from sklearn.feature_extraction.text import TfidfVectorizer, CountVectorizer\n",
    "from sklearn.naive_bayes import BernoulliNB, GaussianNB, MultinomialNB\n",
    "from sklearn.svm import SVC\n",
    "from xgboost import XGBClassifier\n",
    "from sklearn.tree import DecisionTreeClassifier \n",
    "from sklearn.preprocessing import LabelEncoder\n",
    "from sklearn.ensemble import RandomForestClassifier\n",
    "from sklearn.metrics import confusion_matrix, accuracy_score, precision_score, recall_score, f1_score"
   ]
  },
  {
   "cell_type": "code",
   "execution_count": 2,
   "id": "65065800-708a-4310-9c16-9762411543b0",
   "metadata": {},
   "outputs": [],
   "source": [
    "df = pd.read_csv(\"E:/Users/EDriveAkshatRaj/NLTK/Predict Book Genre/data/data.csv\")\n",
    "\n",
    "df =df.drop(columns = 'index')"
   ]
  },
  {
   "cell_type": "code",
   "execution_count": 3,
   "id": "50e642d4-9a79-48e8-9fad-184beeaf80e3",
   "metadata": {},
   "outputs": [],
   "source": [
    "# Clean the dataset\n",
    "import re\n",
    "from nltk.corpus import stopwords\n",
    "from nltk.stem import PorterStemmer\n",
    "from string import punctuation"
   ]
  },
  {
   "cell_type": "code",
   "execution_count": 4,
   "id": "20681f77-d0d6-459e-a70f-e1f83eef03da",
   "metadata": {},
   "outputs": [],
   "source": [
    "# Clean the text by removing stopwords, punctuation, lower\n",
    "def preprocess_text(data: pd.DataFrame, columns: str=None):\n",
    "    if columns not in data.columns:\n",
    "        raise Exception('This column does not exist in the dataframe')\n",
    "    corpus = []\n",
    "    stop_words = stopwords.words('english')\n",
    "    for i in range(0, len(data)):\n",
    "        summary = re.sub(\"[^A-Za-z]\", \" \", df[columns][i])\n",
    "        summary = summary.lower()\n",
    "        summary = summary.split()\n",
    "        summary = [word for word in summary if not word in stop_words]\n",
    "        ps = PorterStemmer()\n",
    "        summary = [ps.stem(word) for word in summary]\n",
    "        summary = \" \".join(summary)\n",
    "        corpus.append(summary)\n",
    "    return corpus\n",
    "\n",
    "\n",
    "corpus = preprocess_text(data=df, columns='summary')"
   ]
  },
  {
   "cell_type": "code",
   "execution_count": 5,
   "id": "b2f21b7d-713d-4269-a9d8-ecb3606559de",
   "metadata": {},
   "outputs": [],
   "source": [
    "# Converting the text to Bag of Words using TfidfVectorizer\n",
    "tf_vectorizer =  TfidfVectorizer(max_features=38000)\n",
    "X_tf = tf_vectorizer.fit_transform(corpus).toarray()"
   ]
  },
  {
   "cell_type": "code",
   "execution_count": 6,
   "id": "6bcd95fe-3caa-41fd-9638-48cb02331811",
   "metadata": {},
   "outputs": [],
   "source": [
    "\n",
    "# Target variable\n",
    "genre = df['genre'].value_counts()\n",
    "\n",
    "encoder = LabelEncoder()\n",
    "y_tf = encoder.fit_transform(df['genre'])\n",
    "\n",
    "\n",
    "\n",
    "class_labels  = {'crime':0, 'fantasy':1, 'history':2, 'horror':3, 'psychology':4, 'romance':5,\n",
    "       'science':7, 'sports':7, 'thriller':9, 'travel':9}\n",
    "class_labels\n",
    "# Seprating the dataset into training and test set\n",
    "X_train_tf, X_test_tf, y_train_tf, y_test_tf = train_test_split(X_tf, y_tf, test_size=0.25, random_state=0)\n"
   ]
  },
  {
   "cell_type": "code",
   "execution_count": null,
   "id": "dd5457f7-78cc-478b-ae3c-493ea769d4ee",
   "metadata": {},
   "outputs": [],
   "source": [
    "\n",
    "# Training the model using different models\n",
    "\n",
    "models = {\"Decision Tree\" : DecisionTreeClassifier(),\n",
    "            \"Xgboost\": XGBClassifier(),\n",
    "            \"RandomForest\": RandomForestClassifier(),\n",
    "            \"Gaussian\": GaussianNB(),\n",
    "            \"Multinomial\": MultinomialNB(),\n",
    "            \"Bernoulli\": BernoulliNB(),\n",
    "            'Support Vector Machine': SVC()}\n",
    "\n",
    "accuracy = {}\n",
    "recall = {}\n",
    "confusion = {}\n",
    "precision = {}\n",
    "for name, model in models.items():\n",
    "    classifier = model.fit(X_train_tf, y_train_tf)\n",
    "    y_pred = classifier.predict(X_test_tf)\n",
    "    ac = accuracy_score(y_test_tf, y_pred)\n",
    "    cm = confusion_matrix(y_test_tf, y_pred)\n",
    "    re = recall_score(y_test_tf, y_pred, average='macro')\n",
    "    pre = precision_score(y_test_tf, y_pred, average='macro')\n",
    "    accuracy[name] = ac\n",
    "    recall[name] = re\n",
    "    confusion[name] = cm\n",
    "    precision[name] = pre\n",
    "\n",
    "\n",
    "        \n",
    "\n",
    "    \n",
    "# Use XgboostClassifier\n",
    "xg = XGBClassifier()\n",
    "xg.fit(X_train_tf, y_train_tf)\n",
    "\n",
    "y_pred = xg.predict(X_test_tf)\n",
    "\n",
    "ac_xg = accuracy_score(y_test_tf, y_pred)\n",
    "print(xg)\n",
    "\n",
    "\n",
    "# Use BernoulliNB\n",
    "bn = BernoulliNB()\n",
    "bn.fit(X_train_tf, y_train_tf)\n",
    "\n",
    "y_pred = bn.predict(X_test_tf)\n",
    "\n",
    "ac_bn = accuracy_score(y_test_tf, y_pred)\n",
    "ac_bn\n",
    "print(ac_bn)\n",
    "\n"
   ]
  }
 ],
 "metadata": {
  "kernelspec": {
   "display_name": "Python 3 (ipykernel)",
   "language": "python",
   "name": "python3"
  },
  "language_info": {
   "codemirror_mode": {
    "name": "ipython",
    "version": 3
   },
   "file_extension": ".py",
   "mimetype": "text/x-python",
   "name": "python",
   "nbconvert_exporter": "python",
   "pygments_lexer": "ipython3",
   "version": "3.12.2"
  }
 },
 "nbformat": 4,
 "nbformat_minor": 5
}
