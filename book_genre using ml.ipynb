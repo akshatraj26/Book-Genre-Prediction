{
 "cells": [
  {
   "cell_type": "markdown",
   "id": "b5383f2a-2a52-4400-826a-3df826c003a7",
   "metadata": {
    "id": "b5383f2a-2a52-4400-826a-3df826c003a7"
   },
   "source": [
    "## import the libraries"
   ]
  },
  {
   "cell_type": "code",
   "execution_count": null,
   "id": "z2MCfYRvwfFM",
   "metadata": {
    "colab": {
     "base_uri": "https://localhost:8080/"
    },
    "id": "z2MCfYRvwfFM",
    "outputId": "cdce6f63-e15b-4591-ea23-420c01a252da"
   },
   "outputs": [
    {
     "name": "stdout",
     "output_type": "stream",
     "text": [
      "Drive already mounted at /content/drive; to attempt to forcibly remount, call drive.mount(\"/content/drive\", force_remount=True).\n"
     ]
    }
   ],
   "source": [
    "# from google.colab import drive\n",
    "# drive.mount('/content/drive')"
   ]
  },
  {
   "cell_type": "code",
   "execution_count": 2,
   "id": "e10ca95f-fa50-43ef-a0e1-567f60363ae1",
   "metadata": {
    "id": "e10ca95f-fa50-43ef-a0e1-567f60363ae1"
   },
   "outputs": [],
   "source": [
    "import pandas as pd\n",
    "from sklearn.model_selection import train_test_split\n",
    "from sklearn.feature_extraction.text import TfidfVectorizer, CountVectorizer\n",
    "from sklearn.naive_bayes import BernoulliNB, GaussianNB, MultinomialNB\n",
    "from sklearn.svm import SVC\n",
    "from xgboost import XGBClassifier\n",
    "from sklearn.tree import DecisionTreeClassifier\n",
    "from sklearn.preprocessing import LabelEncoder\n",
    "from sklearn.ensemble import RandomForestClassifier\n",
    "from sklearn.metrics import confusion_matrix, accuracy_score, precision_score, recall_score, f1_score\n",
    "import joblib"
   ]
  },
  {
   "cell_type": "code",
   "execution_count": 3,
   "id": "65065800-708a-4310-9c16-9762411543b0",
   "metadata": {
    "id": "65065800-708a-4310-9c16-9762411543b0"
   },
   "outputs": [],
   "source": [
    "df = pd.read_csv(\"data/data.csv\")\n",
    "\n",
    "df =df.drop(columns = 'index')"
   ]
  },
  {
   "cell_type": "code",
   "execution_count": 4,
   "id": "LCS3qbWkw2yM",
   "metadata": {
    "colab": {
     "base_uri": "https://localhost:8080/",
     "height": 206
    },
    "id": "LCS3qbWkw2yM",
    "outputId": "7dcbf298-49b2-40a1-9d42-57952dd5796b"
   },
   "outputs": [
    {
     "data": {
      "text/html": [
       "<div>\n",
       "<style scoped>\n",
       "    .dataframe tbody tr th:only-of-type {\n",
       "        vertical-align: middle;\n",
       "    }\n",
       "\n",
       "    .dataframe tbody tr th {\n",
       "        vertical-align: top;\n",
       "    }\n",
       "\n",
       "    .dataframe thead th {\n",
       "        text-align: right;\n",
       "    }\n",
       "</style>\n",
       "<table border=\"1\" class=\"dataframe\">\n",
       "  <thead>\n",
       "    <tr style=\"text-align: right;\">\n",
       "      <th></th>\n",
       "      <th>title</th>\n",
       "      <th>genre</th>\n",
       "      <th>summary</th>\n",
       "    </tr>\n",
       "  </thead>\n",
       "  <tbody>\n",
       "    <tr>\n",
       "      <th>0</th>\n",
       "      <td>Drowned Wednesday</td>\n",
       "      <td>fantasy</td>\n",
       "      <td>Drowned Wednesday is the first Trustee among ...</td>\n",
       "    </tr>\n",
       "    <tr>\n",
       "      <th>1</th>\n",
       "      <td>The Lost Hero</td>\n",
       "      <td>fantasy</td>\n",
       "      <td>As the book opens, Jason awakens on a school ...</td>\n",
       "    </tr>\n",
       "    <tr>\n",
       "      <th>2</th>\n",
       "      <td>The Eyes of the Overworld</td>\n",
       "      <td>fantasy</td>\n",
       "      <td>Cugel is easily persuaded by the merchant Fia...</td>\n",
       "    </tr>\n",
       "    <tr>\n",
       "      <th>3</th>\n",
       "      <td>Magic's Promise</td>\n",
       "      <td>fantasy</td>\n",
       "      <td>The book opens with Herald-Mage Vanyel return...</td>\n",
       "    </tr>\n",
       "    <tr>\n",
       "      <th>4</th>\n",
       "      <td>Taran Wanderer</td>\n",
       "      <td>fantasy</td>\n",
       "      <td>Taran and Gurgi have returned to Caer Dallben...</td>\n",
       "    </tr>\n",
       "  </tbody>\n",
       "</table>\n",
       "</div>"
      ],
      "text/plain": [
       "                       title    genre  \\\n",
       "0          Drowned Wednesday  fantasy   \n",
       "1              The Lost Hero  fantasy   \n",
       "2  The Eyes of the Overworld  fantasy   \n",
       "3            Magic's Promise  fantasy   \n",
       "4             Taran Wanderer  fantasy   \n",
       "\n",
       "                                             summary  \n",
       "0   Drowned Wednesday is the first Trustee among ...  \n",
       "1   As the book opens, Jason awakens on a school ...  \n",
       "2   Cugel is easily persuaded by the merchant Fia...  \n",
       "3   The book opens with Herald-Mage Vanyel return...  \n",
       "4   Taran and Gurgi have returned to Caer Dallben...  "
      ]
     },
     "execution_count": 4,
     "metadata": {},
     "output_type": "execute_result"
    }
   ],
   "source": [
    "df.head()"
   ]
  },
  {
   "cell_type": "code",
   "execution_count": 5,
   "id": "50e642d4-9a79-48e8-9fad-184beeaf80e3",
   "metadata": {
    "colab": {
     "base_uri": "https://localhost:8080/"
    },
    "id": "50e642d4-9a79-48e8-9fad-184beeaf80e3",
    "outputId": "eb521526-ee5b-45fa-93f7-3b9fe2532ed2"
   },
   "outputs": [
    {
     "name": "stderr",
     "output_type": "stream",
     "text": [
      "[nltk_data] Downloading package stopwords to\n",
      "[nltk_data]     C:\\Users\\AkshatRaj\\AppData\\Roaming\\nltk_data...\n",
      "[nltk_data]   Package stopwords is already up-to-date!\n"
     ]
    },
    {
     "data": {
      "text/plain": [
       "True"
      ]
     },
     "execution_count": 5,
     "metadata": {},
     "output_type": "execute_result"
    }
   ],
   "source": [
    "# Clean the dataset\n",
    "import re\n",
    "from nltk.corpus import stopwords\n",
    "from nltk.stem import PorterStemmer\n",
    "from string import punctuation\n",
    "import nltk\n",
    "nltk.download('stopwords')"
   ]
  },
  {
   "cell_type": "code",
   "execution_count": 6,
   "id": "20681f77-d0d6-459e-a70f-e1f83eef03da",
   "metadata": {
    "id": "20681f77-d0d6-459e-a70f-e1f83eef03da"
   },
   "outputs": [],
   "source": [
    "# Clean the text by removing stopwords, punctuation, lower\n",
    "def preprocess_text(data: pd.DataFrame, columns: str=None):\n",
    "    if columns not in data.columns:\n",
    "        raise Exception('This column does not exist in the dataframe')\n",
    "    corpus = []\n",
    "    stop_words = stopwords.words('english')\n",
    "    for i in range(0, len(data)):\n",
    "        summary = re.sub(\"[^A-Za-z]\", \" \", df[columns][i])\n",
    "        summary = summary.lower()\n",
    "        summary = summary.split()\n",
    "        summary = [word for word in summary if not word in stop_words]\n",
    "        ps = PorterStemmer()\n",
    "        summary = [ps.stem(word) for word in summary]\n",
    "        summary = \" \".join(summary)\n",
    "        corpus.append(summary)\n",
    "    return corpus\n",
    "\n",
    "\n",
    "corpus = preprocess_text(data=df, columns='summary')"
   ]
  },
  {
   "cell_type": "code",
   "execution_count": 7,
   "id": "b2f21b7d-713d-4269-a9d8-ecb3606559de",
   "metadata": {
    "id": "b2f21b7d-713d-4269-a9d8-ecb3606559de"
   },
   "outputs": [],
   "source": [
    "# Converting the text to Bag of Words using TfidfVectorizer\n",
    "tf_vectorizer =  TfidfVectorizer(max_features=38000)\n",
    "tf_vectorizer.fit(corpus)\n",
    "X_tf = tf_vectorizer.transform(corpus).toarray()"
   ]
  },
  {
   "cell_type": "code",
   "execution_count": 8,
   "id": "d1edd0aa-c0eb-4cf7-a3e3-5f7b4a00f750",
   "metadata": {},
   "outputs": [
    {
     "data": {
      "text/plain": [
       "['encoder_vectorizer/tfidf_vectorizer.joblib']"
      ]
     },
     "execution_count": 8,
     "metadata": {},
     "output_type": "execute_result"
    }
   ],
   "source": [
    "joblib.dump(tf_vectorizer, \"encoder_vectorizer/tfidf_vectorizer.joblib\")"
   ]
  },
  {
   "cell_type": "code",
   "execution_count": 26,
   "id": "e55bd535-2c61-420e-ab1a-56ad53688be4",
   "metadata": {},
   "outputs": [
    {
     "data": {
      "text/plain": [
       "genre\n",
       "thriller      1023\n",
       "fantasy        876\n",
       "science        647\n",
       "history        600\n",
       "horror         600\n",
       "crime          500\n",
       "romance        111\n",
       "psychology     100\n",
       "sports         100\n",
       "travel         100\n",
       "Name: count, dtype: int64"
      ]
     },
     "execution_count": 26,
     "metadata": {},
     "output_type": "execute_result"
    }
   ],
   "source": [
    "df['genre'].value_counts()"
   ]
  },
  {
   "cell_type": "code",
   "execution_count": 29,
   "id": "6bcd95fe-3caa-41fd-9638-48cb02331811",
   "metadata": {
    "id": "6bcd95fe-3caa-41fd-9638-48cb02331811"
   },
   "outputs": [],
   "source": [
    "# Target variable\n",
    "genre = df['genre'].value_counts()\n",
    "\n",
    "encoder = LabelEncoder()\n",
    "y_tf = encoder.fit_transform(df['genre'])\n",
    "\n",
    "from imblearn.over_sampling import SMOTE\n",
    "sm = SMOTE(random_state = 0)\n",
    "# Seprating the dataset into training and test set\n",
    "\n",
    "\n",
    "X_train_tf, X_test_tf, y_train_tf, y_test_tf = train_test_split(X_tf, y_tf, test_size=0.25, random_state=0)\n",
    "X_train_tf_res, y_train_res = sm.fit_resample(X_train_tf, y_train_tf)"
   ]
  },
  {
   "cell_type": "code",
   "execution_count": 30,
   "id": "cce867e3-7d27-4b4a-8700-0c04b98d8c40",
   "metadata": {},
   "outputs": [
    {
     "data": {
      "text/plain": [
       "['encoder_vectorizer/encoder.joblib']"
      ]
     },
     "execution_count": 30,
     "metadata": {},
     "output_type": "execute_result"
    }
   ],
   "source": [
    "joblib.dump(encoder, \"encoder_vectorizer/encoder.joblib\")"
   ]
  },
  {
   "cell_type": "code",
   "execution_count": 11,
   "id": "dd5457f7-78cc-478b-ae3c-493ea769d4ee",
   "metadata": {
    "colab": {
     "base_uri": "https://localhost:8080/",
     "height": 373
    },
    "id": "dd5457f7-78cc-478b-ae3c-493ea769d4ee",
    "outputId": "a1e73fca-32e3-4311-e842-36dfa4c1f5b9"
   },
   "outputs": [],
   "source": [
    "# # Training the model using different models\n",
    "\n",
    "# models = {\"Decision Tree\" : DecisionTreeClassifier(),\n",
    "#             \"Xgboost\": XGBClassifier(),\n",
    "#             \"RandomForest\": RandomForestClassifier(),\n",
    "#             \"Gaussian\": GaussianNB(),\n",
    "#             \"Multinomial\": MultinomialNB(),\n",
    "#             \"Bernoulli\": BernoulliNB(),\n",
    "#             'Support Vector Machine': SVC()}\n",
    "\n",
    "# accuracy = {}\n",
    "# recall = {}\n",
    "# confusion = {}\n",
    "# precision = {}\n",
    "# for name, model in models.items():\n",
    "#     classifier = model.fit(X_train_tf, y_train_tf)\n",
    "#     y_pred = classifier.predict(X_test_tf)\n",
    "#     ac = accuracy_score(y_test_tf, y_pred)\n",
    "#     cm = confusion_matrix(y_test_tf, y_pred)\n",
    "#     re = recall_score(y_test_tf, y_pred, average='macro')\n",
    "#     pre = precision_score(y_test_tf, y_pred, average='macro')\n",
    "#     accuracy[name] = ac\n",
    "#     recall[name] = re\n",
    "#     confusion[name] = cm\n",
    "#     precision[name] = pre\n",
    "\n"
   ]
  },
  {
   "cell_type": "markdown",
   "id": "dR-TmgoOxbOY",
   "metadata": {
    "id": "dR-TmgoOxbOY"
   },
   "source": [
    "## Use XgboostClassifier"
   ]
  },
  {
   "cell_type": "code",
   "execution_count": 12,
   "id": "29734a16-0a83-461f-8c06-b1594cfc6df5",
   "metadata": {},
   "outputs": [],
   "source": [
    "from sklearn import set_config"
   ]
  },
  {
   "cell_type": "code",
   "execution_count": 13,
   "id": "4a1d6196-d34b-4d7e-b8ec-56016ba4e242",
   "metadata": {},
   "outputs": [],
   "source": [
    "set_config(display='diagram')"
   ]
  },
  {
   "cell_type": "code",
   "execution_count": 34,
   "id": "oBkvAgTqxZfT",
   "metadata": {
    "colab": {
     "base_uri": "https://localhost:8080/"
    },
    "id": "oBkvAgTqxZfT",
    "outputId": "b6f5d3a7-ef00-4f09-c7af-1ef5001063c5"
   },
   "outputs": [
    {
     "data": {
      "text/html": [
       "<style>#sk-container-id-3 {\n",
       "  /* Definition of color scheme common for light and dark mode */\n",
       "  --sklearn-color-text: black;\n",
       "  --sklearn-color-line: gray;\n",
       "  /* Definition of color scheme for unfitted estimators */\n",
       "  --sklearn-color-unfitted-level-0: #fff5e6;\n",
       "  --sklearn-color-unfitted-level-1: #f6e4d2;\n",
       "  --sklearn-color-unfitted-level-2: #ffe0b3;\n",
       "  --sklearn-color-unfitted-level-3: chocolate;\n",
       "  /* Definition of color scheme for fitted estimators */\n",
       "  --sklearn-color-fitted-level-0: #f0f8ff;\n",
       "  --sklearn-color-fitted-level-1: #d4ebff;\n",
       "  --sklearn-color-fitted-level-2: #b3dbfd;\n",
       "  --sklearn-color-fitted-level-3: cornflowerblue;\n",
       "\n",
       "  /* Specific color for light theme */\n",
       "  --sklearn-color-text-on-default-background: var(--sg-text-color, var(--theme-code-foreground, var(--jp-content-font-color1, black)));\n",
       "  --sklearn-color-background: var(--sg-background-color, var(--theme-background, var(--jp-layout-color0, white)));\n",
       "  --sklearn-color-border-box: var(--sg-text-color, var(--theme-code-foreground, var(--jp-content-font-color1, black)));\n",
       "  --sklearn-color-icon: #696969;\n",
       "\n",
       "  @media (prefers-color-scheme: dark) {\n",
       "    /* Redefinition of color scheme for dark theme */\n",
       "    --sklearn-color-text-on-default-background: var(--sg-text-color, var(--theme-code-foreground, var(--jp-content-font-color1, white)));\n",
       "    --sklearn-color-background: var(--sg-background-color, var(--theme-background, var(--jp-layout-color0, #111)));\n",
       "    --sklearn-color-border-box: var(--sg-text-color, var(--theme-code-foreground, var(--jp-content-font-color1, white)));\n",
       "    --sklearn-color-icon: #878787;\n",
       "  }\n",
       "}\n",
       "\n",
       "#sk-container-id-3 {\n",
       "  color: var(--sklearn-color-text);\n",
       "}\n",
       "\n",
       "#sk-container-id-3 pre {\n",
       "  padding: 0;\n",
       "}\n",
       "\n",
       "#sk-container-id-3 input.sk-hidden--visually {\n",
       "  border: 0;\n",
       "  clip: rect(1px 1px 1px 1px);\n",
       "  clip: rect(1px, 1px, 1px, 1px);\n",
       "  height: 1px;\n",
       "  margin: -1px;\n",
       "  overflow: hidden;\n",
       "  padding: 0;\n",
       "  position: absolute;\n",
       "  width: 1px;\n",
       "}\n",
       "\n",
       "#sk-container-id-3 div.sk-dashed-wrapped {\n",
       "  border: 1px dashed var(--sklearn-color-line);\n",
       "  margin: 0 0.4em 0.5em 0.4em;\n",
       "  box-sizing: border-box;\n",
       "  padding-bottom: 0.4em;\n",
       "  background-color: var(--sklearn-color-background);\n",
       "}\n",
       "\n",
       "#sk-container-id-3 div.sk-container {\n",
       "  /* jupyter's `normalize.less` sets `[hidden] { display: none; }`\n",
       "     but bootstrap.min.css set `[hidden] { display: none !important; }`\n",
       "     so we also need the `!important` here to be able to override the\n",
       "     default hidden behavior on the sphinx rendered scikit-learn.org.\n",
       "     See: https://github.com/scikit-learn/scikit-learn/issues/21755 */\n",
       "  display: inline-block !important;\n",
       "  position: relative;\n",
       "}\n",
       "\n",
       "#sk-container-id-3 div.sk-text-repr-fallback {\n",
       "  display: none;\n",
       "}\n",
       "\n",
       "div.sk-parallel-item,\n",
       "div.sk-serial,\n",
       "div.sk-item {\n",
       "  /* draw centered vertical line to link estimators */\n",
       "  background-image: linear-gradient(var(--sklearn-color-text-on-default-background), var(--sklearn-color-text-on-default-background));\n",
       "  background-size: 2px 100%;\n",
       "  background-repeat: no-repeat;\n",
       "  background-position: center center;\n",
       "}\n",
       "\n",
       "/* Parallel-specific style estimator block */\n",
       "\n",
       "#sk-container-id-3 div.sk-parallel-item::after {\n",
       "  content: \"\";\n",
       "  width: 100%;\n",
       "  border-bottom: 2px solid var(--sklearn-color-text-on-default-background);\n",
       "  flex-grow: 1;\n",
       "}\n",
       "\n",
       "#sk-container-id-3 div.sk-parallel {\n",
       "  display: flex;\n",
       "  align-items: stretch;\n",
       "  justify-content: center;\n",
       "  background-color: var(--sklearn-color-background);\n",
       "  position: relative;\n",
       "}\n",
       "\n",
       "#sk-container-id-3 div.sk-parallel-item {\n",
       "  display: flex;\n",
       "  flex-direction: column;\n",
       "}\n",
       "\n",
       "#sk-container-id-3 div.sk-parallel-item:first-child::after {\n",
       "  align-self: flex-end;\n",
       "  width: 50%;\n",
       "}\n",
       "\n",
       "#sk-container-id-3 div.sk-parallel-item:last-child::after {\n",
       "  align-self: flex-start;\n",
       "  width: 50%;\n",
       "}\n",
       "\n",
       "#sk-container-id-3 div.sk-parallel-item:only-child::after {\n",
       "  width: 0;\n",
       "}\n",
       "\n",
       "/* Serial-specific style estimator block */\n",
       "\n",
       "#sk-container-id-3 div.sk-serial {\n",
       "  display: flex;\n",
       "  flex-direction: column;\n",
       "  align-items: center;\n",
       "  background-color: var(--sklearn-color-background);\n",
       "  padding-right: 1em;\n",
       "  padding-left: 1em;\n",
       "}\n",
       "\n",
       "\n",
       "/* Toggleable style: style used for estimator/Pipeline/ColumnTransformer box that is\n",
       "clickable and can be expanded/collapsed.\n",
       "- Pipeline and ColumnTransformer use this feature and define the default style\n",
       "- Estimators will overwrite some part of the style using the `sk-estimator` class\n",
       "*/\n",
       "\n",
       "/* Pipeline and ColumnTransformer style (default) */\n",
       "\n",
       "#sk-container-id-3 div.sk-toggleable {\n",
       "  /* Default theme specific background. It is overwritten whether we have a\n",
       "  specific estimator or a Pipeline/ColumnTransformer */\n",
       "  background-color: var(--sklearn-color-background);\n",
       "}\n",
       "\n",
       "/* Toggleable label */\n",
       "#sk-container-id-3 label.sk-toggleable__label {\n",
       "  cursor: pointer;\n",
       "  display: block;\n",
       "  width: 100%;\n",
       "  margin-bottom: 0;\n",
       "  padding: 0.5em;\n",
       "  box-sizing: border-box;\n",
       "  text-align: center;\n",
       "}\n",
       "\n",
       "#sk-container-id-3 label.sk-toggleable__label-arrow:before {\n",
       "  /* Arrow on the left of the label */\n",
       "  content: \"▸\";\n",
       "  float: left;\n",
       "  margin-right: 0.25em;\n",
       "  color: var(--sklearn-color-icon);\n",
       "}\n",
       "\n",
       "#sk-container-id-3 label.sk-toggleable__label-arrow:hover:before {\n",
       "  color: var(--sklearn-color-text);\n",
       "}\n",
       "\n",
       "/* Toggleable content - dropdown */\n",
       "\n",
       "#sk-container-id-3 div.sk-toggleable__content {\n",
       "  max-height: 0;\n",
       "  max-width: 0;\n",
       "  overflow: hidden;\n",
       "  text-align: left;\n",
       "  /* unfitted */\n",
       "  background-color: var(--sklearn-color-unfitted-level-0);\n",
       "}\n",
       "\n",
       "#sk-container-id-3 div.sk-toggleable__content.fitted {\n",
       "  /* fitted */\n",
       "  background-color: var(--sklearn-color-fitted-level-0);\n",
       "}\n",
       "\n",
       "#sk-container-id-3 div.sk-toggleable__content pre {\n",
       "  margin: 0.2em;\n",
       "  border-radius: 0.25em;\n",
       "  color: var(--sklearn-color-text);\n",
       "  /* unfitted */\n",
       "  background-color: var(--sklearn-color-unfitted-level-0);\n",
       "}\n",
       "\n",
       "#sk-container-id-3 div.sk-toggleable__content.fitted pre {\n",
       "  /* unfitted */\n",
       "  background-color: var(--sklearn-color-fitted-level-0);\n",
       "}\n",
       "\n",
       "#sk-container-id-3 input.sk-toggleable__control:checked~div.sk-toggleable__content {\n",
       "  /* Expand drop-down */\n",
       "  max-height: 200px;\n",
       "  max-width: 100%;\n",
       "  overflow: auto;\n",
       "}\n",
       "\n",
       "#sk-container-id-3 input.sk-toggleable__control:checked~label.sk-toggleable__label-arrow:before {\n",
       "  content: \"▾\";\n",
       "}\n",
       "\n",
       "/* Pipeline/ColumnTransformer-specific style */\n",
       "\n",
       "#sk-container-id-3 div.sk-label input.sk-toggleable__control:checked~label.sk-toggleable__label {\n",
       "  color: var(--sklearn-color-text);\n",
       "  background-color: var(--sklearn-color-unfitted-level-2);\n",
       "}\n",
       "\n",
       "#sk-container-id-3 div.sk-label.fitted input.sk-toggleable__control:checked~label.sk-toggleable__label {\n",
       "  background-color: var(--sklearn-color-fitted-level-2);\n",
       "}\n",
       "\n",
       "/* Estimator-specific style */\n",
       "\n",
       "/* Colorize estimator box */\n",
       "#sk-container-id-3 div.sk-estimator input.sk-toggleable__control:checked~label.sk-toggleable__label {\n",
       "  /* unfitted */\n",
       "  background-color: var(--sklearn-color-unfitted-level-2);\n",
       "}\n",
       "\n",
       "#sk-container-id-3 div.sk-estimator.fitted input.sk-toggleable__control:checked~label.sk-toggleable__label {\n",
       "  /* fitted */\n",
       "  background-color: var(--sklearn-color-fitted-level-2);\n",
       "}\n",
       "\n",
       "#sk-container-id-3 div.sk-label label.sk-toggleable__label,\n",
       "#sk-container-id-3 div.sk-label label {\n",
       "  /* The background is the default theme color */\n",
       "  color: var(--sklearn-color-text-on-default-background);\n",
       "}\n",
       "\n",
       "/* On hover, darken the color of the background */\n",
       "#sk-container-id-3 div.sk-label:hover label.sk-toggleable__label {\n",
       "  color: var(--sklearn-color-text);\n",
       "  background-color: var(--sklearn-color-unfitted-level-2);\n",
       "}\n",
       "\n",
       "/* Label box, darken color on hover, fitted */\n",
       "#sk-container-id-3 div.sk-label.fitted:hover label.sk-toggleable__label.fitted {\n",
       "  color: var(--sklearn-color-text);\n",
       "  background-color: var(--sklearn-color-fitted-level-2);\n",
       "}\n",
       "\n",
       "/* Estimator label */\n",
       "\n",
       "#sk-container-id-3 div.sk-label label {\n",
       "  font-family: monospace;\n",
       "  font-weight: bold;\n",
       "  display: inline-block;\n",
       "  line-height: 1.2em;\n",
       "}\n",
       "\n",
       "#sk-container-id-3 div.sk-label-container {\n",
       "  text-align: center;\n",
       "}\n",
       "\n",
       "/* Estimator-specific */\n",
       "#sk-container-id-3 div.sk-estimator {\n",
       "  font-family: monospace;\n",
       "  border: 1px dotted var(--sklearn-color-border-box);\n",
       "  border-radius: 0.25em;\n",
       "  box-sizing: border-box;\n",
       "  margin-bottom: 0.5em;\n",
       "  /* unfitted */\n",
       "  background-color: var(--sklearn-color-unfitted-level-0);\n",
       "}\n",
       "\n",
       "#sk-container-id-3 div.sk-estimator.fitted {\n",
       "  /* fitted */\n",
       "  background-color: var(--sklearn-color-fitted-level-0);\n",
       "}\n",
       "\n",
       "/* on hover */\n",
       "#sk-container-id-3 div.sk-estimator:hover {\n",
       "  /* unfitted */\n",
       "  background-color: var(--sklearn-color-unfitted-level-2);\n",
       "}\n",
       "\n",
       "#sk-container-id-3 div.sk-estimator.fitted:hover {\n",
       "  /* fitted */\n",
       "  background-color: var(--sklearn-color-fitted-level-2);\n",
       "}\n",
       "\n",
       "/* Specification for estimator info (e.g. \"i\" and \"?\") */\n",
       "\n",
       "/* Common style for \"i\" and \"?\" */\n",
       "\n",
       ".sk-estimator-doc-link,\n",
       "a:link.sk-estimator-doc-link,\n",
       "a:visited.sk-estimator-doc-link {\n",
       "  float: right;\n",
       "  font-size: smaller;\n",
       "  line-height: 1em;\n",
       "  font-family: monospace;\n",
       "  background-color: var(--sklearn-color-background);\n",
       "  border-radius: 1em;\n",
       "  height: 1em;\n",
       "  width: 1em;\n",
       "  text-decoration: none !important;\n",
       "  margin-left: 1ex;\n",
       "  /* unfitted */\n",
       "  border: var(--sklearn-color-unfitted-level-1) 1pt solid;\n",
       "  color: var(--sklearn-color-unfitted-level-1);\n",
       "}\n",
       "\n",
       ".sk-estimator-doc-link.fitted,\n",
       "a:link.sk-estimator-doc-link.fitted,\n",
       "a:visited.sk-estimator-doc-link.fitted {\n",
       "  /* fitted */\n",
       "  border: var(--sklearn-color-fitted-level-1) 1pt solid;\n",
       "  color: var(--sklearn-color-fitted-level-1);\n",
       "}\n",
       "\n",
       "/* On hover */\n",
       "div.sk-estimator:hover .sk-estimator-doc-link:hover,\n",
       ".sk-estimator-doc-link:hover,\n",
       "div.sk-label-container:hover .sk-estimator-doc-link:hover,\n",
       ".sk-estimator-doc-link:hover {\n",
       "  /* unfitted */\n",
       "  background-color: var(--sklearn-color-unfitted-level-3);\n",
       "  color: var(--sklearn-color-background);\n",
       "  text-decoration: none;\n",
       "}\n",
       "\n",
       "div.sk-estimator.fitted:hover .sk-estimator-doc-link.fitted:hover,\n",
       ".sk-estimator-doc-link.fitted:hover,\n",
       "div.sk-label-container:hover .sk-estimator-doc-link.fitted:hover,\n",
       ".sk-estimator-doc-link.fitted:hover {\n",
       "  /* fitted */\n",
       "  background-color: var(--sklearn-color-fitted-level-3);\n",
       "  color: var(--sklearn-color-background);\n",
       "  text-decoration: none;\n",
       "}\n",
       "\n",
       "/* Span, style for the box shown on hovering the info icon */\n",
       ".sk-estimator-doc-link span {\n",
       "  display: none;\n",
       "  z-index: 9999;\n",
       "  position: relative;\n",
       "  font-weight: normal;\n",
       "  right: .2ex;\n",
       "  padding: .5ex;\n",
       "  margin: .5ex;\n",
       "  width: min-content;\n",
       "  min-width: 20ex;\n",
       "  max-width: 50ex;\n",
       "  color: var(--sklearn-color-text);\n",
       "  box-shadow: 2pt 2pt 4pt #999;\n",
       "  /* unfitted */\n",
       "  background: var(--sklearn-color-unfitted-level-0);\n",
       "  border: .5pt solid var(--sklearn-color-unfitted-level-3);\n",
       "}\n",
       "\n",
       ".sk-estimator-doc-link.fitted span {\n",
       "  /* fitted */\n",
       "  background: var(--sklearn-color-fitted-level-0);\n",
       "  border: var(--sklearn-color-fitted-level-3);\n",
       "}\n",
       "\n",
       ".sk-estimator-doc-link:hover span {\n",
       "  display: block;\n",
       "}\n",
       "\n",
       "/* \"?\"-specific style due to the `<a>` HTML tag */\n",
       "\n",
       "#sk-container-id-3 a.estimator_doc_link {\n",
       "  float: right;\n",
       "  font-size: 1rem;\n",
       "  line-height: 1em;\n",
       "  font-family: monospace;\n",
       "  background-color: var(--sklearn-color-background);\n",
       "  border-radius: 1rem;\n",
       "  height: 1rem;\n",
       "  width: 1rem;\n",
       "  text-decoration: none;\n",
       "  /* unfitted */\n",
       "  color: var(--sklearn-color-unfitted-level-1);\n",
       "  border: var(--sklearn-color-unfitted-level-1) 1pt solid;\n",
       "}\n",
       "\n",
       "#sk-container-id-3 a.estimator_doc_link.fitted {\n",
       "  /* fitted */\n",
       "  border: var(--sklearn-color-fitted-level-1) 1pt solid;\n",
       "  color: var(--sklearn-color-fitted-level-1);\n",
       "}\n",
       "\n",
       "/* On hover */\n",
       "#sk-container-id-3 a.estimator_doc_link:hover {\n",
       "  /* unfitted */\n",
       "  background-color: var(--sklearn-color-unfitted-level-3);\n",
       "  color: var(--sklearn-color-background);\n",
       "  text-decoration: none;\n",
       "}\n",
       "\n",
       "#sk-container-id-3 a.estimator_doc_link.fitted:hover {\n",
       "  /* fitted */\n",
       "  background-color: var(--sklearn-color-fitted-level-3);\n",
       "}\n",
       "</style><div id=\"sk-container-id-3\" class=\"sk-top-container\"><div class=\"sk-text-repr-fallback\"><pre>XGBClassifier(base_score=None, booster=None, callbacks=None,\n",
       "              colsample_bylevel=None, colsample_bynode=None,\n",
       "              colsample_bytree=None, device=None, early_stopping_rounds=None,\n",
       "              enable_categorical=False, eval_metric=None, feature_types=None,\n",
       "              gamma=None, grow_policy=None, importance_type=None,\n",
       "              interaction_constraints=None, learning_rate=None, max_bin=None,\n",
       "              max_cat_threshold=None, max_cat_to_onehot=None,\n",
       "              max_delta_step=None, max_depth=None, max_leaves=None,\n",
       "              min_child_weight=None, missing=nan, monotone_constraints=None,\n",
       "              multi_strategy=None, n_estimators=None, n_jobs=-1,\n",
       "              num_parallel_tree=None, objective=&#x27;multi:softprob&#x27;, ...)</pre><b>In a Jupyter environment, please rerun this cell to show the HTML representation or trust the notebook. <br />On GitHub, the HTML representation is unable to render, please try loading this page with nbviewer.org.</b></div><div class=\"sk-container\" hidden><div class=\"sk-item\"><div class=\"sk-estimator fitted sk-toggleable\"><input class=\"sk-toggleable__control sk-hidden--visually\" id=\"sk-estimator-id-3\" type=\"checkbox\" checked><label for=\"sk-estimator-id-3\" class=\"sk-toggleable__label fitted sk-toggleable__label-arrow fitted\">&nbsp;XGBClassifier<span class=\"sk-estimator-doc-link fitted\">i<span>Fitted</span></span></label><div class=\"sk-toggleable__content fitted\"><pre>XGBClassifier(base_score=None, booster=None, callbacks=None,\n",
       "              colsample_bylevel=None, colsample_bynode=None,\n",
       "              colsample_bytree=None, device=None, early_stopping_rounds=None,\n",
       "              enable_categorical=False, eval_metric=None, feature_types=None,\n",
       "              gamma=None, grow_policy=None, importance_type=None,\n",
       "              interaction_constraints=None, learning_rate=None, max_bin=None,\n",
       "              max_cat_threshold=None, max_cat_to_onehot=None,\n",
       "              max_delta_step=None, max_depth=None, max_leaves=None,\n",
       "              min_child_weight=None, missing=nan, monotone_constraints=None,\n",
       "              multi_strategy=None, n_estimators=None, n_jobs=-1,\n",
       "              num_parallel_tree=None, objective=&#x27;multi:softprob&#x27;, ...)</pre></div> </div></div></div></div>"
      ],
      "text/plain": [
       "XGBClassifier(base_score=None, booster=None, callbacks=None,\n",
       "              colsample_bylevel=None, colsample_bynode=None,\n",
       "              colsample_bytree=None, device=None, early_stopping_rounds=None,\n",
       "              enable_categorical=False, eval_metric=None, feature_types=None,\n",
       "              gamma=None, grow_policy=None, importance_type=None,\n",
       "              interaction_constraints=None, learning_rate=None, max_bin=None,\n",
       "              max_cat_threshold=None, max_cat_to_onehot=None,\n",
       "              max_delta_step=None, max_depth=None, max_leaves=None,\n",
       "              min_child_weight=None, missing=nan, monotone_constraints=None,\n",
       "              multi_strategy=None, n_estimators=None, n_jobs=-1,\n",
       "              num_parallel_tree=None, objective='multi:softprob', ...)"
      ]
     },
     "execution_count": 34,
     "metadata": {},
     "output_type": "execute_result"
    }
   ],
   "source": [
    "xg = XGBClassifier(n_jobs = -1)\n",
    "xg.fit(X_train_tf_res, y_train_res)"
   ]
  },
  {
   "cell_type": "code",
   "execution_count": 35,
   "id": "aae98895-df7d-4de4-b84c-a86cea8c10da",
   "metadata": {},
   "outputs": [
    {
     "name": "stdout",
     "output_type": "stream",
     "text": [
      "XGBClassifier(base_score=None, booster=None, callbacks=None,\n",
      "              colsample_bylevel=None, colsample_bynode=None,\n",
      "              colsample_bytree=None, device=None, early_stopping_rounds=None,\n",
      "              enable_categorical=False, eval_metric=None, feature_types=None,\n",
      "              gamma=None, grow_policy=None, importance_type=None,\n",
      "              interaction_constraints=None, learning_rate=None, max_bin=None,\n",
      "              max_cat_threshold=None, max_cat_to_onehot=None,\n",
      "              max_delta_step=None, max_depth=None, max_leaves=None,\n",
      "              min_child_weight=None, missing=nan, monotone_constraints=None,\n",
      "              multi_strategy=None, n_estimators=None, n_jobs=-1,\n",
      "              num_parallel_tree=None, objective='multi:softprob', ...)\n"
     ]
    }
   ],
   "source": [
    "y_pred = xg.predict(X_test_tf)\n",
    "\n",
    "ac_xg = accuracy_score(y_test_tf, y_pred)\n",
    "print(xg)"
   ]
  },
  {
   "cell_type": "code",
   "execution_count": 36,
   "id": "c6870705-52dd-4e62-a2c0-089931d493e9",
   "metadata": {},
   "outputs": [
    {
     "data": {
      "text/plain": [
       "0.6540772532188841"
      ]
     },
     "execution_count": 36,
     "metadata": {},
     "output_type": "execute_result"
    }
   ],
   "source": [
    "ac_xg"
   ]
  },
  {
   "cell_type": "code",
   "execution_count": 37,
   "id": "0d1e02ca-c8c8-436a-8db5-e0d050809512",
   "metadata": {},
   "outputs": [
    {
     "data": {
      "text/plain": [
       "['models/book_genre_prediction.joblib']"
      ]
     },
     "execution_count": 37,
     "metadata": {},
     "output_type": "execute_result"
    }
   ],
   "source": [
    "joblib.dump(xg, \"models/book_genre_prediction.joblib\")"
   ]
  },
  {
   "cell_type": "code",
   "execution_count": 38,
   "id": "70770b91-686f-437a-8ec8-1a2fa95dfcde",
   "metadata": {},
   "outputs": [],
   "source": [
    "def preprocess_text(text: str) -> str:\n",
    "    \"\"\"\n",
    "    \n",
    "\n",
    "    Parameters\n",
    "    ----------\n",
    "    text : str\n",
    "        DESCRIPTION.\n",
    "\n",
    "    Returns\n",
    "    -------\n",
    "    str\n",
    "        DESCRIPTION.\n",
    "\n",
    "    \"\"\"\n",
    "    text = re.sub(\"[^A-Za-z]\", \" \", text)\n",
    "    text = text.lower()\n",
    "    text = text.split()\n",
    "    ps = PorterStemmer()\n",
    "    stop_words = stopwords.words('english')\n",
    "    text = [ps.stem(word) for word in text if not word in set(stop_words)]\n",
    "    text = \" \".join(text)\n",
    "    return text"
   ]
  },
  {
   "cell_type": "code",
   "execution_count": 39,
   "id": "d8bbb064-00f2-4ae3-8018-c372fecd8a14",
   "metadata": {},
   "outputs": [
    {
     "name": "stdout",
     "output_type": "stream",
     "text": [
      "[0]\n"
     ]
    },
    {
     "data": {
      "text/plain": [
       "array(['crime'], dtype=object)"
      ]
     },
     "execution_count": 39,
     "metadata": {},
     "output_type": "execute_result"
    }
   ],
   "source": [
    "text = \"On the morning of their fifth wedding anniversary, Nick Dunne's wife, Amy, disappears. As the police investigation unfolds, Nick becomes the prime suspect. Told from alternating perspectives, this psychological thriller explores themes of deceit, manipulation, and the dark sides of marriage.\"\n",
    "\n",
    "res = xg.predict(tf_vectorizer.transform([preprocess_text(text)]))\n",
    "print(res)\n",
    "encoder.inverse_transform(res)\n"
   ]
  },
  {
   "cell_type": "code",
   "execution_count": null,
   "id": "00979ca8-1cf3-474f-b993-257004671e64",
   "metadata": {},
   "outputs": [],
   "source": []
  },
  {
   "cell_type": "code",
   "execution_count": 10,
   "id": "BKvXI-Pr2fhN",
   "metadata": {
    "colab": {
     "base_uri": "https://localhost:8080/"
    },
    "id": "BKvXI-Pr2fhN",
    "outputId": "ae2dc1d3-513c-4315-bbd9-0cb955bdb1e7"
   },
   "outputs": [
    {
     "data": {
      "text/plain": [
       "0.6506437768240343"
      ]
     },
     "execution_count": 10,
     "metadata": {},
     "output_type": "execute_result"
    }
   ],
   "source": [
    "ac_xg"
   ]
  },
  {
   "cell_type": "code",
   "execution_count": 11,
   "id": "ftbHafLfygKc",
   "metadata": {
    "colab": {
     "base_uri": "https://localhost:8080/"
    },
    "id": "ftbHafLfygKc",
    "outputId": "332c7101-1848-4084-9311-c91b719c483f"
   },
   "outputs": [
    {
     "data": {
      "text/plain": [
       "array([[ 84,   4,   6,   3,   2,   0,   2,   0,  31,   0],\n",
       "       [  2, 143,   8,  13,   0,   5,  17,   0,  17,   0],\n",
       "       [  4,  13, 109,   7,   0,   0,   6,   0,  16,   3],\n",
       "       [  3,  17,   9,  82,   0,   0,   7,   0,  31,   0],\n",
       "       [  0,   0,   1,   0,   8,   0,   6,   1,   4,   0],\n",
       "       [  0,   5,   0,   0,   0,   7,   1,   2,   9,   0],\n",
       "       [  4,  16,  12,   8,   5,   0, 118,   0,   8,   0],\n",
       "       [  0,   0,   1,   0,   0,   1,   0,  18,   5,   0],\n",
       "       [ 22,   8,  16,  16,   0,   3,  13,   0, 179,   0],\n",
       "       [  0,   2,   6,   0,   0,   0,   3,   0,   3,  10]], dtype=int64)"
      ]
     },
     "execution_count": 11,
     "metadata": {},
     "output_type": "execute_result"
    }
   ],
   "source": [
    "cm_xg = confusion_matrix(y_test_tf, y_pred)\n",
    "cm_xg"
   ]
  },
  {
   "cell_type": "markdown",
   "id": "kNVtZMPy52pR",
   "metadata": {
    "id": "kNVtZMPy52pR"
   },
   "source": [
    "## Dump the model"
   ]
  },
  {
   "cell_type": "code",
   "execution_count": null,
   "id": "WLXownMK5z6g",
   "metadata": {
    "colab": {
     "base_uri": "https://localhost:8080/"
    },
    "id": "WLXownMK5z6g",
    "outputId": "c4c0c901-5c45-4ef9-abac-4cac0709ecd1"
   },
   "outputs": [
    {
     "data": {
      "text/plain": [
       "['book_genre_prediction_xg.joblib']"
      ]
     },
     "execution_count": 36,
     "metadata": {},
     "output_type": "execute_result"
    }
   ],
   "source": [
    "# joblib.dump(tf_vectorizer, 'tfidf_vectorizer.joblib')\n",
    "# joblib.dump(encoder, 'encoder.joblib')\n",
    "# joblib.dump(xg, \"book_genre_prediction_xg.joblib\")"
   ]
  },
  {
   "cell_type": "markdown",
   "id": "yhUF13Ohxizj",
   "metadata": {
    "id": "yhUF13Ohxizj"
   },
   "source": [
    "## Use BernoulliNB"
   ]
  },
  {
   "cell_type": "code",
   "execution_count": 15,
   "id": "KNcGo172xhKp",
   "metadata": {
    "colab": {
     "base_uri": "https://localhost:8080/"
    },
    "id": "KNcGo172xhKp",
    "outputId": "65e1e5fa-7100-466d-8751-55aa0fb1f3d9"
   },
   "outputs": [
    {
     "data": {
      "text/plain": [
       "0.44034334763948496"
      ]
     },
     "execution_count": 15,
     "metadata": {},
     "output_type": "execute_result"
    }
   ],
   "source": [
    "bn = BernoulliNB()\n",
    "bn.fit(X_train_tf, y_train_tf)\n",
    "\n",
    "y_pred = bn.predict(X_test_tf)\n",
    "\n",
    "ac_bn = accuracy_score(y_test_tf, y_pred)\n",
    "ac_bn"
   ]
  },
  {
   "cell_type": "code",
   "execution_count": 16,
   "id": "3nyjuRHny-Fi",
   "metadata": {
    "colab": {
     "base_uri": "https://localhost:8080/"
    },
    "id": "3nyjuRHny-Fi",
    "outputId": "98a43afa-34df-4f36-a0fa-5952195765e4"
   },
   "outputs": [
    {
     "data": {
      "text/plain": [
       "array([[ 17,   0,   3,   2,   0,   0,   0,   0, 110,   0],\n",
       "       [  0,  97,   3,   7,   0,   0,   7,   0,  91,   0],\n",
       "       [  0,  16,  54,   4,   0,   0,   0,   0,  84,   0],\n",
       "       [  0,  12,   3,  49,   0,   0,   1,   0,  84,   0],\n",
       "       [  0,   0,   0,   0,   0,   0,   1,   0,  19,   0],\n",
       "       [  0,   1,   0,   0,   0,   0,   0,   0,  23,   0],\n",
       "       [  0,   7,  10,   5,   0,   0,  60,   0,  89,   0],\n",
       "       [  0,   1,   0,   0,   0,   0,   0,   0,  24,   0],\n",
       "       [  1,   3,   4,  11,   0,   0,   2,   0, 236,   0],\n",
       "       [  0,   2,   0,   0,   0,   0,   0,   0,  22,   0]], dtype=int64)"
      ]
     },
     "execution_count": 16,
     "metadata": {},
     "output_type": "execute_result"
    }
   ],
   "source": [
    "cm_bn = confusion_matrix(y_test_tf, y_pred)\n",
    "cm_bn"
   ]
  },
  {
   "cell_type": "code",
   "execution_count": null,
   "id": "bNYP0YB9_My5",
   "metadata": {
    "colab": {
     "base_uri": "https://localhost:8080/"
    },
    "id": "bNYP0YB9_My5",
    "outputId": "a74c366b-9edb-488d-8001-aba0a53953bd"
   },
   "outputs": [
    {
     "data": {
      "text/plain": [
       "['book_genre_prediction_bn.joblib']"
      ]
     },
     "execution_count": 10,
     "metadata": {},
     "output_type": "execute_result"
    }
   ],
   "source": [
    "joblib.dump(bn, \"book_genre_prediction_bn.joblib\")"
   ]
  },
  {
   "cell_type": "markdown",
   "id": "iD0Ma-mTx9-h",
   "metadata": {
    "id": "iD0Ma-mTx9-h"
   },
   "source": [
    "## Gaussian NB"
   ]
  },
  {
   "cell_type": "code",
   "execution_count": 19,
   "id": "V-kacysPxyyT",
   "metadata": {
    "id": "V-kacysPxyyT"
   },
   "outputs": [],
   "source": [
    "ng = GaussianNB()\n",
    "ng.fit(X_train_tf, y_train_tf)\n",
    "\n",
    "y_pred = ng.predict(X_test_tf)\n",
    "\n",
    "ac_nb = accuracy_score(y_test_tf, y_pred)"
   ]
  },
  {
   "cell_type": "code",
   "execution_count": 20,
   "id": "K4L13tCw_Zcv",
   "metadata": {
    "colab": {
     "base_uri": "https://localhost:8080/"
    },
    "id": "K4L13tCw_Zcv",
    "outputId": "5156e298-7b30-465d-8004-b25d869ba468"
   },
   "outputs": [
    {
     "data": {
      "text/plain": [
       "0.48412017167381977"
      ]
     },
     "execution_count": 20,
     "metadata": {},
     "output_type": "execute_result"
    }
   ],
   "source": [
    "ac_nb"
   ]
  },
  {
   "cell_type": "code",
   "execution_count": 21,
   "id": "dqtudFBWxyuy",
   "metadata": {
    "colab": {
     "base_uri": "https://localhost:8080/"
    },
    "id": "dqtudFBWxyuy",
    "outputId": "1f057c30-b009-490c-9837-ef26d871c223"
   },
   "outputs": [
    {
     "data": {
      "text/plain": [
       "array([[ 50,  10,  13,  16,   0,   0,   5,   0,  38,   0],\n",
       "       [  2, 131,  17,  16,   0,   5,  13,   0,  21,   0],\n",
       "       [  5,  16,  86,  11,   0,   0,  13,   0,  27,   0],\n",
       "       [  5,  19,  20,  63,   0,   0,   8,   0,  34,   0],\n",
       "       [  1,   3,   1,   1,   2,   0,   8,   0,   4,   0],\n",
       "       [  0,   4,   3,   1,   0,   0,   2,   1,  13,   0],\n",
       "       [  3,  32,  20,  11,   4,   0,  77,   0,  24,   0],\n",
       "       [  1,   3,   2,   1,   0,   1,   0,   6,  11,   0],\n",
       "       [ 23,  17,  25,  30,   0,   2,  12,   0, 148,   0],\n",
       "       [  0,   2,  11,   3,   0,   0,   4,   0,   3,   1]], dtype=int64)"
      ]
     },
     "execution_count": 21,
     "metadata": {},
     "output_type": "execute_result"
    }
   ],
   "source": [
    "cm_gn = confusion_matrix(y_test_tf, y_pred)\n",
    "cm_gn"
   ]
  },
  {
   "cell_type": "code",
   "execution_count": null,
   "id": "_I1WdTl2_dbF",
   "metadata": {
    "colab": {
     "base_uri": "https://localhost:8080/"
    },
    "id": "_I1WdTl2_dbF",
    "outputId": "a6294836-7bfe-4297-f711-b008e9532429"
   },
   "outputs": [
    {
     "data": {
      "text/plain": [
       "['book_genre_prediction_gaussian.joblib']"
      ]
     },
     "execution_count": 26,
     "metadata": {},
     "output_type": "execute_result"
    }
   ],
   "source": [
    "joblib.dump(ng, \"book_genre_prediction_gaussian.joblib\")"
   ]
  },
  {
   "cell_type": "code",
   "execution_count": 22,
   "id": "zm5Cs4Nsxymk",
   "metadata": {
    "id": "zm5Cs4Nsxymk"
   },
   "outputs": [],
   "source": [
    "mn = MultinomialNB()\n",
    "mn.fit(X_train_tf, y_train_tf)\n",
    "\n",
    "y_pred = mn.predict(X_test_tf)\n",
    "\n",
    "ac_mn = accuracy_score(y_test_tf, y_pred)"
   ]
  },
  {
   "cell_type": "code",
   "execution_count": 23,
   "id": "-MG6cMxG_r02",
   "metadata": {
    "colab": {
     "base_uri": "https://localhost:8080/"
    },
    "id": "-MG6cMxG_r02",
    "outputId": "f68f2208-1e56-4eeb-d371-b1e5bf51c6dc"
   },
   "outputs": [
    {
     "data": {
      "text/plain": [
       "0.41974248927038627"
      ]
     },
     "execution_count": 23,
     "metadata": {},
     "output_type": "execute_result"
    }
   ],
   "source": [
    "ac_mn"
   ]
  },
  {
   "cell_type": "code",
   "execution_count": 24,
   "id": "DVZLkzpk0L9R",
   "metadata": {
    "colab": {
     "base_uri": "https://localhost:8080/"
    },
    "id": "DVZLkzpk0L9R",
    "outputId": "deb13eaf-d5a7-4e14-b2b6-59e08588b519"
   },
   "outputs": [
    {
     "data": {
      "text/plain": [
       "array([[  0,   1,   0,   0,   0,   0,   0,   0, 131,   0],\n",
       "       [  0, 152,   0,   0,   0,   0,   4,   0,  49,   0],\n",
       "       [  0,  17,  22,   0,   0,   0,   1,   0, 118,   0],\n",
       "       [  0,  18,   1,  17,   0,   0,   0,   0, 113,   0],\n",
       "       [  0,   0,   0,   0,   0,   0,   0,   0,  20,   0],\n",
       "       [  0,   3,   0,   0,   0,   0,   0,   0,  21,   0],\n",
       "       [  0,  13,   0,   0,   0,   0,  45,   0, 113,   0],\n",
       "       [  0,   0,   0,   0,   0,   0,   0,   0,  25,   0],\n",
       "       [  0,   4,   0,   0,   0,   0,   0,   0, 253,   0],\n",
       "       [  0,   3,   0,   0,   0,   0,   0,   0,  21,   0]], dtype=int64)"
      ]
     },
     "execution_count": 24,
     "metadata": {},
     "output_type": "execute_result"
    }
   ],
   "source": [
    "cm_mn = confusion_matrix(y_test_tf, y_pred)\n",
    "cm_mn"
   ]
  },
  {
   "cell_type": "code",
   "execution_count": null,
   "id": "vUrKlnSZ_vsQ",
   "metadata": {
    "colab": {
     "base_uri": "https://localhost:8080/"
    },
    "id": "vUrKlnSZ_vsQ",
    "outputId": "cb6bbcaa-b6e7-4e17-b3fc-45452a110494"
   },
   "outputs": [
    {
     "data": {
      "text/plain": [
       "['book_genre_prediction_multinomial.joblib']"
      ]
     },
     "execution_count": 27,
     "metadata": {},
     "output_type": "execute_result"
    }
   ],
   "source": [
    "joblib.dump(mn, \"book_genre_prediction_multinomial.joblib\")"
   ]
  },
  {
   "cell_type": "markdown",
   "id": "iAUbkMtb5cBT",
   "metadata": {
    "id": "iAUbkMtb5cBT"
   },
   "source": [
    "## Support Vector Machine"
   ]
  },
  {
   "cell_type": "code",
   "execution_count": null,
   "id": "5e4c357c-7fe9-4985-9d5a-2392b9746643",
   "metadata": {},
   "outputs": [],
   "source": [
    "C=1.0, kernel='linear', degree=3, gamma='auto'"
   ]
  },
  {
   "cell_type": "code",
   "execution_count": null,
   "id": "CkwKiDaU5YDt",
   "metadata": {
    "colab": {
     "base_uri": "https://localhost:8080/"
    },
    "id": "CkwKiDaU5YDt",
    "outputId": "a1787020-62df-481e-8f1d-e71ac09bb93a"
   },
   "outputs": [],
   "source": [
    "sv = SVC(kernel=\"linear\", C= 1, class_weight=\"balanced\")\n",
    "sv.fit(X_train_tf, y_train_tf)\n",
    "\n",
    "y_pred = sv.predict(X_test_tf)\n",
    "\n",
    "ac_sv = accuracy_score(y_test_tf, y_pred)\n",
    "ac_sv"
   ]
  },
  {
   "cell_type": "code",
   "execution_count": null,
   "id": "fKlxjioLBwHC",
   "metadata": {
    "colab": {
     "base_uri": "https://localhost:8080/",
     "height": 147
    },
    "id": "fKlxjioLBwHC",
    "outputId": "2342ba5b-def4-4b3e-8a75-a8b357859481"
   },
   "outputs": [
    {
     "ename": "NameError",
     "evalue": "name 'sv' is not defined",
     "output_type": "error",
     "traceback": [
      "\u001b[0;31m---------------------------------------------------------------------------\u001b[0m",
      "\u001b[0;31mNameError\u001b[0m                                 Traceback (most recent call last)",
      "\u001b[0;32m<ipython-input-28-2ccdb8f55e0b>\u001b[0m in \u001b[0;36m<cell line: 1>\u001b[0;34m()\u001b[0m\n\u001b[0;32m----> 1\u001b[0;31m \u001b[0mjoblib\u001b[0m\u001b[0;34m.\u001b[0m\u001b[0mdump\u001b[0m\u001b[0;34m(\u001b[0m\u001b[0msv\u001b[0m\u001b[0;34m,\u001b[0m \u001b[0;34m\"book_genre_prediction_svc.joblib\"\u001b[0m\u001b[0;34m)\u001b[0m\u001b[0;34m\u001b[0m\u001b[0;34m\u001b[0m\u001b[0m\n\u001b[0m",
      "\u001b[0;31mNameError\u001b[0m: name 'sv' is not defined"
     ]
    }
   ],
   "source": [
    "joblib.dump(sv, \"book_genre_prediction_svc.joblib\")"
   ]
  },
  {
   "cell_type": "code",
   "execution_count": null,
   "id": "-6___ds59uqX",
   "metadata": {
    "id": "-6___ds59uqX"
   },
   "outputs": [],
   "source": [
    "# sv = SVC()\n",
    "# sv.fit(X_train_tf, y_train_tf)\n",
    "\n",
    "# y_pred = sv.predict(X_test_tf)\n",
    "\n",
    "ac_sv = accuracy_score(y_test_tf, y_pred)\n",
    "ac_sv"
   ]
  },
  {
   "cell_type": "code",
   "execution_count": null,
   "id": "AWYy-o1G5fvU",
   "metadata": {
    "colab": {
     "base_uri": "https://localhost:8080/"
    },
    "id": "AWYy-o1G5fvU",
    "outputId": "071f1bb4-30b4-4da5-f20d-268adda947aa"
   },
   "outputs": [
    {
     "data": {
      "text/plain": [
       "array([[ 17,   0,   3,   2,   0,   0,   0,   0, 110,   0],\n",
       "       [  0,  97,   3,   7,   0,   0,   7,   0,  91,   0],\n",
       "       [  0,  16,  54,   4,   0,   0,   0,   0,  84,   0],\n",
       "       [  0,  12,   3,  49,   0,   0,   1,   0,  84,   0],\n",
       "       [  0,   0,   0,   0,   0,   0,   1,   0,  19,   0],\n",
       "       [  0,   1,   0,   0,   0,   0,   0,   0,  23,   0],\n",
       "       [  0,   7,  10,   5,   0,   0,  60,   0,  89,   0],\n",
       "       [  0,   1,   0,   0,   0,   0,   0,   0,  24,   0],\n",
       "       [  1,   3,   4,  11,   0,   0,   2,   0, 236,   0],\n",
       "       [  0,   2,   0,   0,   0,   0,   0,   0,  22,   0]])"
      ]
     },
     "execution_count": 37,
     "metadata": {},
     "output_type": "execute_result"
    }
   ],
   "source": [
    "cm_sv = confusion_matrix(y_test_tf, y_pred)\n",
    "cm_sv"
   ]
  },
  {
   "cell_type": "markdown",
   "id": "kVBYSx0d2vkG",
   "metadata": {
    "id": "kVBYSx0d2vkG"
   },
   "source": [
    "### Testing"
   ]
  },
  {
   "cell_type": "code",
   "execution_count": null,
   "id": "vJn4_Ayl2uPr",
   "metadata": {
    "id": "vJn4_Ayl2uPr"
   },
   "outputs": [],
   "source": [
    "test = df['summary'][200]\n",
    "\n",
    "test_X = tf_vectorizer.transform([test])"
   ]
  },
  {
   "cell_type": "code",
   "execution_count": null,
   "id": "v-kqed-uB8-8",
   "metadata": {
    "id": "v-kqed-uB8-8"
   },
   "outputs": [],
   "source": [
    "xg = joblib.load(\"book_genre_prediction_xg.joblib\")"
   ]
  },
  {
   "cell_type": "code",
   "execution_count": null,
   "id": "8tnZrQdI2uCn",
   "metadata": {
    "colab": {
     "base_uri": "https://localhost:8080/"
    },
    "id": "8tnZrQdI2uCn",
    "outputId": "84e4507a-ae7c-436c-d019-cd6c65ddd4eb"
   },
   "outputs": [
    {
     "data": {
      "text/plain": [
       "3"
      ]
     },
     "execution_count": 32,
     "metadata": {},
     "output_type": "execute_result"
    }
   ],
   "source": [
    "xg.predict(test_X)[0]"
   ]
  },
  {
   "cell_type": "markdown",
   "id": "qRjAcb1B4V8i",
   "metadata": {
    "id": "qRjAcb1B4V8i"
   },
   "source": [
    " The plot concerns a young woman living in Ottawa named Jacky Rowan who, after a late-night encounter with a motorcycle-riding version of the Wild Hunt, picks up a red cap which enables her to see into the Faerie realms. She is soon drawn into a supernatural struggle between the weakened forces of the Seelie Court and their ominous enemies, the Host or Unseelie Court. She is regaled as the Jack of Kinrowan, a trickster figure who represents the Seelie Court's hope for victory against the forces of evil. With the help of her friend Kate Hazel and an array of faerie friends and allies she makes along the way (and a considerable amount of good luck), Jacky manages to rescue the kidnapped daughter of the Laird of Kinrowan and defeat the Unseelie Court, thus bringing peace and safety to the land."
   ]
  },
  {
   "cell_type": "code",
   "execution_count": null,
   "id": "ISTAvUhB4PEr",
   "metadata": {
    "colab": {
     "base_uri": "https://localhost:8080/",
     "height": 109
    },
    "id": "ISTAvUhB4PEr",
    "outputId": "3e11a6b4-257d-481e-a619-550fac65b8e5"
   },
   "outputs": [
    {
     "data": {
      "application/vnd.google.colaboratory.intrinsic+json": {
       "type": "string"
      },
      "text/plain": [
       "\" The plot concerns a young woman living in Ottawa named Jacky Rowan who, after a late-night encounter with a motorcycle-riding version of the Wild Hunt, picks up a red cap which enables her to see into the Faerie realms. She is soon drawn into a supernatural struggle between the weakened forces of the Seelie Court and their ominous enemies, the Host or Unseelie Court. She is regaled as the Jack of Kinrowan, a trickster figure who represents the Seelie Court's hope for victory against the forces of evil. With the help of her friend Kate Hazel and an array of faerie friends and allies she makes along the way (and a considerable amount of good luck), Jacky manages to rescue the kidnapped daughter of the Laird of Kinrowan and defeat the Unseelie Court, thus bringing peace and safety to the land.\""
      ]
     },
     "execution_count": 30,
     "metadata": {},
     "output_type": "execute_result"
    }
   ],
   "source": [
    "test"
   ]
  },
  {
   "cell_type": "code",
   "execution_count": null,
   "id": "2jdvguIL3rLI",
   "metadata": {
    "colab": {
     "base_uri": "https://localhost:8080/"
    },
    "id": "2jdvguIL3rLI",
    "outputId": "8d2e4a2e-289b-4438-ac54-bbe357ba5139"
   },
   "outputs": [
    {
     "data": {
      "text/plain": [
       "array(['horror'], dtype=object)"
      ]
     },
     "execution_count": 33,
     "metadata": {},
     "output_type": "execute_result"
    }
   ],
   "source": [
    "encoder.inverse_transform(xg.predict(test_X))"
   ]
  },
  {
   "cell_type": "code",
   "execution_count": null,
   "id": "vLI6Jm494Jjp",
   "metadata": {
    "id": "vLI6Jm494Jjp"
   },
   "outputs": [],
   "source": [
    "\n"
   ]
  },
  {
   "cell_type": "code",
   "execution_count": null,
   "id": "myoKmFRU4z8Q",
   "metadata": {
    "id": "myoKmFRU4z8Q"
   },
   "outputs": [],
   "source": []
  }
 ],
 "metadata": {
  "accelerator": "GPU",
  "colab": {
   "gpuType": "T4",
   "provenance": []
  },
  "kernelspec": {
   "display_name": "Python 3 (ipykernel)",
   "language": "python",
   "name": "python3"
  },
  "language_info": {
   "codemirror_mode": {
    "name": "ipython",
    "version": 3
   },
   "file_extension": ".py",
   "mimetype": "text/x-python",
   "name": "python",
   "nbconvert_exporter": "python",
   "pygments_lexer": "ipython3",
   "version": "3.12.2"
  }
 },
 "nbformat": 4,
 "nbformat_minor": 5
}
